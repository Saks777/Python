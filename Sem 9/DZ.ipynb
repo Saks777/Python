{
  "cells": [
    {
      "cell_type": "code",
      "execution_count": 2,
      "metadata": {
        "id": "unXzPnFKYkZp"
      },
      "outputs": [
        {
          "ename": "ModuleNotFoundError",
          "evalue": "No module named 'pandas'",
          "output_type": "error",
          "traceback": [
            "\u001b[1;31m---------------------------------------------------------------------------\u001b[0m",
            "\u001b[1;31mModuleNotFoundError\u001b[0m                       Traceback (most recent call last)",
            "Cell \u001b[1;32mIn[2], line 1\u001b[0m\n\u001b[1;32m----> 1\u001b[0m \u001b[39mimport\u001b[39;00m \u001b[39mpandas\u001b[39;00m \u001b[39mas\u001b[39;00m \u001b[39mpd\u001b[39;00m\n",
            "\u001b[1;31mModuleNotFoundError\u001b[0m: No module named 'pandas'"
          ]
        }
      ],
      "source": [
        "import pandas as pd"
      ]
    },
    {
      "cell_type": "code",
      "execution_count": null,
      "metadata": {
        "id": "POrUi4XHZjUi"
      },
      "outputs": [],
      "source": [
        "f = pd.read_csv('sample_data/california_housing_test.csv')"
      ]
    },
    {
      "cell_type": "code",
      "execution_count": null,
      "metadata": {
        "colab": {
          "base_uri": "https://localhost:8080/"
        },
        "id": "hEAwaypsa7Ah",
        "outputId": "8af0103b-9f94-4b3c-86f6-b803a2172b63"
      },
      "outputs": [],
      "source": [
        "f.shape\n"
      ]
    },
    {
      "cell_type": "code",
      "execution_count": null,
      "metadata": {
        "colab": {
          "base_uri": "https://localhost:8080/"
        },
        "id": "NNwoF7MjbKyh",
        "outputId": "a5e47f7e-5f20-4b4b-f57d-02e52ff1f082"
      },
      "outputs": [],
      "source": [
        "f.dtypes"
      ]
    },
    {
      "cell_type": "code",
      "execution_count": null,
      "metadata": {
        "colab": {
          "base_uri": "https://localhost:8080/",
          "height": 424
        },
        "id": "Pc5C6_rumixl",
        "outputId": "4fb5778c-8d15-42fc-f4ab-22e3f6d76155"
      },
      "outputs": [],
      "source": [
        "f"
      ]
    },
    {
      "cell_type": "code",
      "execution_count": null,
      "metadata": {
        "colab": {
          "base_uri": "https://localhost:8080/"
        },
        "id": "Q4BfFkVhm1L0",
        "outputId": "64deb3fa-93be-4c05-ac47-a22d9d39ea8b"
      },
      "outputs": [],
      "source": [
        "# Задача 40: Работать с файлом california_housing_train.csv, который находится в папке sample_data. Определить среднюю стоимость дома, где кол-во людей от 0 до 500 (population)\n",
        "round(f[f['population'] <= 500]['median_house_value'].mean(), 2)"
      ]
    },
    {
      "cell_type": "code",
      "execution_count": null,
      "metadata": {
        "colab": {
          "base_uri": "https://localhost:8080/"
        },
        "id": "nHA7Lhyom-y0",
        "outputId": "cd9c2df7-43a8-4315-fd5d-f47f1514e620"
      },
      "outputs": [],
      "source": [
        "# Задача 42: Узнать какая максимальная households в зоне минимального значения population\n",
        "f[f['population'] == f['population'].min()]['households'].max()"
      ]
    }
  ],
  "metadata": {
    "colab": {
      "provenance": []
    },
    "kernelspec": {
      "display_name": "Python 3",
      "name": "python3"
    },
    "language_info": {
      "codemirror_mode": {
        "name": "ipython",
        "version": 3
      },
      "file_extension": ".py",
      "mimetype": "text/x-python",
      "name": "python",
      "nbconvert_exporter": "python",
      "pygments_lexer": "ipython3",
      "version": "3.11.2"
    }
  },
  "nbformat": 4,
  "nbformat_minor": 0
}
